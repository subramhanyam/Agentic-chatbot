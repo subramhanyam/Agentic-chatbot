{
 "cells": [
  {
   "cell_type": "code",
   "execution_count": 1,
   "id": "5c0278da",
   "metadata": {},
   "outputs": [],
   "source": [
    "from configparser import ConfigParser\n",
    "\n",
    "configparser = ConfigParser()"
   ]
  },
  {
   "cell_type": "code",
   "execution_count": 14,
   "id": "d729ec82",
   "metadata": {},
   "outputs": [
    {
     "data": {
      "text/plain": [
       "[]"
      ]
     },
     "execution_count": 14,
     "metadata": {},
     "output_type": "execute_result"
    }
   ],
   "source": [
    "configparser.read(r\"Ui\\uiconfig.ini\")"
   ]
  },
  {
   "cell_type": "code",
   "execution_count": 7,
   "id": "3ca19f64",
   "metadata": {},
   "outputs": [],
   "source": [
    "st = configparser[\"DEFAULT\"].get(\"llm_Option\")"
   ]
  },
  {
   "cell_type": "code",
   "execution_count": 8,
   "id": "686d05fd",
   "metadata": {},
   "outputs": [
    {
     "data": {
      "text/plain": [
       "['llm1', 'llm2']"
      ]
     },
     "execution_count": 8,
     "metadata": {},
     "output_type": "execute_result"
    }
   ],
   "source": [
    "st.split(\", \")"
   ]
  },
  {
   "cell_type": "code",
   "execution_count": 5,
   "id": "cc908bcd",
   "metadata": {},
   "outputs": [
    {
     "data": {
      "text/plain": [
       "['llm1', 'llm2']"
      ]
     },
     "execution_count": 5,
     "metadata": {},
     "output_type": "execute_result"
    }
   ],
   "source": [
    "configparser[\"DEFAULT\"].get(\"llm_Option\").split(\", \")"
   ]
  },
  {
   "cell_type": "code",
   "execution_count": 1,
   "id": "f2e90864",
   "metadata": {},
   "outputs": [],
   "source": [
    "if (None):\n",
    "    print(\"hello\")"
   ]
  },
  {
   "cell_type": "code",
   "execution_count": null,
   "id": "5f547e85",
   "metadata": {},
   "outputs": [],
   "source": []
  }
 ],
 "metadata": {
  "kernelspec": {
   "display_name": "myenv",
   "language": "python",
   "name": "python3"
  },
  "language_info": {
   "codemirror_mode": {
    "name": "ipython",
    "version": 3
   },
   "file_extension": ".py",
   "mimetype": "text/x-python",
   "name": "python",
   "nbconvert_exporter": "python",
   "pygments_lexer": "ipython3",
   "version": "3.13.5"
  }
 },
 "nbformat": 4,
 "nbformat_minor": 5
}
